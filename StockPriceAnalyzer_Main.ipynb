{
 "cells": [
  {
   "cell_type": "markdown",
   "metadata": {},
   "source": [
    "Stock Price Analyzer using ML and BigData\n",
    "==\n",
    "\n",
    "by Sun-il Kim. *2019-01-11*\n",
    "\n",
    "\n",
    "**기본적인 빅데이터 머신러닝을 통한 주식 분석 예제입니다.**"
   ]
  },
  {
   "cell_type": "markdown",
   "metadata": {},
   "source": [
    ">*어제에 이어 머신러닝 맛보기를 진행하겠습니다.*\n",
    "\n",
    ">*뭔가 진행이 안되고 있다면 물어보시는게 50배 빠를 수 있습니다.*"
   ]
  },
  {
   "cell_type": "markdown",
   "metadata": {},
   "source": [
    "1.SVM모델을 이용한 주식 가격 분석을 실시하세요. \n",
    "--\n",
    "- 강의1) https://www.youtube.com/watch?v=SSu00IRRraY\n",
    "- 강의2) https://www.youtube.com/watch?v=g8D5YL6cOSE&index=2&list=PL2-dafEMk2A7mu0bSksCGMJEmeddU_H4D\n",
    "- 참고) https://github.com/mKausthub/stock-er\n",
    "- 두 영상을 먼저 보시고 진행합니다. "
   ]
  },
  {
   "cell_type": "markdown",
   "metadata": {},
   "source": [
    "1-1. 필요한 CSV자료를 받아옵니다. \n",
    "--\n",
    "- 예제 snap.csv -> https://drive.google.com/open?id=1lun35XsmPHaEtFmF5VbK-e9QIl5QGIo1\n",
    "- 예제 aapls.csv -> https://drive.google.com/open?id=1d3gEhcHMMMjswtVpuZODj3hQmC6ms2oF\n",
    "- *두 csv파일 모두 받아 .ipynb(주피터노트북 파일)이나 .py(파이썬파일) 폴더에 넣어두세요* \n",
    "\n",
    "\n",
    "- 기타) https://finance.yahoo.com/quote/ATVI/history?period1=1544367600&period2=1547046000&interval=1d&filter=history&frequency=1d\n",
    "- 다른 데이터가 궁금하시면 해당 링크에서 받을 수 있습니다.\n",
    "- 해당 링크는 블리자드이나, 상단에서 검색하고 기간 설정 후 Download하시면 됩니다. \n",
    "\n",
    "- 아직 기간은 1달정도가 적당합니다. (1년이나 10년 하시면 컴파일에 정말 10년이 걸릴 수 있습니다.)"
   ]
  },
  {
   "cell_type": "markdown",
   "metadata": {},
   "source": [
    "1-3. 필요한 모듈을 설치합니다. \n",
    "--\n",
    "\n",
    "아나콘다 프롬트에서 ***pip install {모듈이름}*** 으로 설치합니다.\n",
    "- **csv** -> 보통 기본이나 가끔 기본설치만 하신 분들은 없을 수 있습니다. (말 그대로 CSV파일을 입출력하기 위해 사용됩니다.)\n",
    "- **numpy** -> 기본적인 계산을 위해서 사용됩니다. 이번 경우 .reshape 을 통해 내부 데이터는 보존한 채로 형태나 차원을 바꾸는데 이용합니다. \n",
    "- **scikit-learn** -> 파이썬에서 가장 유명한 머신러닝 라이브러리입니다. 지도학습부터 각종 모델, 데이터 변환에서 전처리까지 다 하는 만능 라이브러리입니다.\n",
    "- **matplotlib** -> TwitterAnalyzer에서 이야기 드렸듯, 일반적으로 그래프나 차트 등을 그리는 라이브러리입니다. "
   ]
  },
  {
   "cell_type": "markdown",
   "metadata": {},
   "source": [
    "1-4. 영상의 예제를 실습해 봅니다. \n",
    "==\n",
    "```\n",
    "# 주피터 노트북에서 matplotlib으로 frontend처럼 그래프를 띄우고자 하면 필요합니다.\n",
    "# 없으면 그래프가 출력되지 않아 (많이) 고생하게 됩니다. \n",
    "%matplotlib inline\n",
    "\n",
    "# 기본적인 모듈을 가져옵니다.\n",
    "import csv\n",
    "import numpy as np\n",
    "from sklearn.svm import SVR\n",
    "import matplotlib.pyplot as plt\n",
    "\n",
    "# 데이터를 CSV파일로부터 읽어오는 함수를 정의합니다.\n",
    "def get_data(filename):\n",
    "    with open(filename, 'r') as csvfile:\n",
    "        csvFileReader = csv.reader(csvfile)\n",
    "        next(csvFileReader)\n",
    "        for row in csvFileReader:\n",
    "            dates.append(int(row[0].split('-')[0]))\n",
    "            prices.append(float(row[1]))\n",
    "    return\n",
    "\n",
    "# 데이터를 SVR 분석하는 함수를 정의합니다 \n",
    "def predict_prices(dates, prices, x):\n",
    "    dates = np.reshape(dates, (len(dates), 1))\n",
    "    \n",
    "    # 선형\n",
    "    svr_lin = SVR(kernel= 'linear', C=1e3)\n",
    "    # 다항\n",
    "    svr_poly = SVR(kernel = 'poly', C=1e3, degree = 2)\n",
    "    # RBF\n",
    "    svr_rbf = SVR(kernel='rbf', C=1e3, gamma='auto')\n",
    "    \n",
    "    # 데이터 훈련\n",
    "    svr_lin.fit(dates, prices)\n",
    "    svr_poly.fit(dates, prices)\n",
    "    svr_rbf.fit(dates, prices)\n",
    "    \n",
    "    # 데이터 표현\n",
    "    plt.scatter(dates, prices, color='black', label='Data')\n",
    "    plt.plot(dates, svr_rbf.predict(dates), color='red', label='RBF model')\n",
    "    plt.plot(dates, svr_lin.predict(dates), color='green', label='Linear model')\n",
    "    plt.plot(dates, svr_poly.predict(dates), color='blue', label='Polynomial model')\n",
    "    # 그래프 레이블링\n",
    "    plt.xlabel('Date')\n",
    "    plt.ylabel('Price')\n",
    "    plt.title('Support Vector Regression')\n",
    "    plt.legend()\n",
    "    plt.show()\n",
    "    \n",
    "    #훈련된 데이터 반환\n",
    "    return svr_rbf.predict(x)[0], svr_lin.predict(x)[0], svr_poly.predict(x)[0]\n",
    "\n",
    "# CSV 파일 지정\n",
    "get_data('ATVI.csv')\n",
    "# 데이터 훈련\n",
    "predicted_price = predict_prices(dates, prices, 21)\n",
    "# 데이터 표시\n",
    "print(predicted_price)\n",
    "\n",
    "```"
   ]
  },
  {
   "cell_type": "markdown",
   "metadata": {},
   "source": [
    "1-5. 풀어볼 문제 \n",
    "==\n",
    "\n",
    "1. snaps.csv 파일과 aapls.csv 파일을 둘 다 실행해보자.\n",
    "    - 왜 하나는 제대로 그래프가 표시가 안 되는가? \n",
    "2. dates = np.reshape(dates, (len(dates), 1)) 부분을 공부해보자. \n",
    "    - **.reshape**은 정확히 무엇을 하며, len(dates)가 어떻게 이용된 것인가?\n",
    "    - 참고) https://www.youtube.com/watch?v=gNRADnAWCHA\n",
    "   "
   ]
  },
  {
   "cell_type": "code",
   "execution_count": 17,
   "metadata": {},
   "outputs": [
    {
     "ename": "NameError",
     "evalue": "name 'dates' is not defined",
     "output_type": "error",
     "traceback": [
      "\u001b[0;31m---------------------------------------------------------------------------\u001b[0m",
      "\u001b[0;31mNameError\u001b[0m                                 Traceback (most recent call last)",
      "\u001b[0;32m<ipython-input-17-78ead13acca3>\u001b[0m in \u001b[0;36m<module>\u001b[0;34m\u001b[0m\n\u001b[1;32m     48\u001b[0m \u001b[0;34m\u001b[0m\u001b[0m\n\u001b[1;32m     49\u001b[0m \u001b[0;31m# CSV 파일 지정\u001b[0m\u001b[0;34m\u001b[0m\u001b[0;34m\u001b[0m\u001b[0;34m\u001b[0m\u001b[0m\n\u001b[0;32m---> 50\u001b[0;31m \u001b[0mget_data\u001b[0m\u001b[0;34m(\u001b[0m\u001b[0;34m'snaps.csv'\u001b[0m\u001b[0;34m)\u001b[0m\u001b[0;34m\u001b[0m\u001b[0;34m\u001b[0m\u001b[0m\n\u001b[0m\u001b[1;32m     51\u001b[0m \u001b[0;31m# 데이터 훈련\u001b[0m\u001b[0;34m\u001b[0m\u001b[0;34m\u001b[0m\u001b[0;34m\u001b[0m\u001b[0m\n\u001b[1;32m     52\u001b[0m \u001b[0mpredicted_price\u001b[0m \u001b[0;34m=\u001b[0m \u001b[0mpredict_prices\u001b[0m\u001b[0;34m(\u001b[0m\u001b[0mdates\u001b[0m\u001b[0;34m,\u001b[0m \u001b[0mprices\u001b[0m\u001b[0;34m,\u001b[0m \u001b[0;36m29\u001b[0m\u001b[0;34m)\u001b[0m\u001b[0;34m\u001b[0m\u001b[0;34m\u001b[0m\u001b[0m\n",
      "\u001b[0;32m<ipython-input-17-78ead13acca3>\u001b[0m in \u001b[0;36mget_data\u001b[0;34m(filename)\u001b[0m\n\u001b[1;32m     12\u001b[0m         \u001b[0mnext\u001b[0m\u001b[0;34m(\u001b[0m\u001b[0mcsvFileReader\u001b[0m\u001b[0;34m)\u001b[0m\u001b[0;34m\u001b[0m\u001b[0;34m\u001b[0m\u001b[0m\n\u001b[1;32m     13\u001b[0m         \u001b[0;32mfor\u001b[0m \u001b[0mrow\u001b[0m \u001b[0;32min\u001b[0m \u001b[0mcsvFileReader\u001b[0m\u001b[0;34m:\u001b[0m\u001b[0;34m\u001b[0m\u001b[0;34m\u001b[0m\u001b[0m\n\u001b[0;32m---> 14\u001b[0;31m             \u001b[0mdates\u001b[0m\u001b[0;34m.\u001b[0m\u001b[0mappend\u001b[0m\u001b[0;34m(\u001b[0m\u001b[0mint\u001b[0m\u001b[0;34m(\u001b[0m\u001b[0mrow\u001b[0m\u001b[0;34m[\u001b[0m\u001b[0;36m0\u001b[0m\u001b[0;34m]\u001b[0m\u001b[0;34m.\u001b[0m\u001b[0msplit\u001b[0m\u001b[0;34m(\u001b[0m\u001b[0;34m'-'\u001b[0m\u001b[0;34m)\u001b[0m\u001b[0;34m[\u001b[0m\u001b[0;36m0\u001b[0m\u001b[0;34m]\u001b[0m\u001b[0;34m)\u001b[0m\u001b[0;34m)\u001b[0m\u001b[0;34m\u001b[0m\u001b[0;34m\u001b[0m\u001b[0m\n\u001b[0m\u001b[1;32m     15\u001b[0m             \u001b[0mprices\u001b[0m\u001b[0;34m.\u001b[0m\u001b[0mappend\u001b[0m\u001b[0;34m(\u001b[0m\u001b[0mfloat\u001b[0m\u001b[0;34m(\u001b[0m\u001b[0mrow\u001b[0m\u001b[0;34m[\u001b[0m\u001b[0;36m1\u001b[0m\u001b[0;34m]\u001b[0m\u001b[0;34m)\u001b[0m\u001b[0;34m)\u001b[0m\u001b[0;34m\u001b[0m\u001b[0;34m\u001b[0m\u001b[0m\n\u001b[1;32m     16\u001b[0m     \u001b[0;32mreturn\u001b[0m\u001b[0;34m\u001b[0m\u001b[0;34m\u001b[0m\u001b[0m\n",
      "\u001b[0;31mNameError\u001b[0m: name 'dates' is not defined"
     ]
    }
   ],
   "source": [
    "%matplotlib inline\n",
    "# 기본적인 모듈을 가져옵니다.\n",
    "import csv\n",
    "import numpy as np\n",
    "from sklearn.svm import SVR\n",
    "import matplotlib.pyplot as plt\n",
    "\n",
    "# 데이터를 CSV파일로부터 읽어오는 함수를 정의합니다.\n",
    "def get_data(filename):\n",
    "    with open(filename, 'r') as csvfile:\n",
    "        csvFileReader = csv.reader(csvfile)\n",
    "        next(csvFileReader)\n",
    "        for row in csvFileReader:\n",
    "            dates.append(int(row[0].split('-')[0]))\n",
    "            prices.append(float(row[1]))\n",
    "    return\n",
    "\n",
    "# 데이터를 SVR 분석하는 함수를 정의합니다 \n",
    "def predict_prices(dates, prices, x):\n",
    "    dates = np.reshape(dates, (len(dates), 1))\n",
    "\n",
    "    # 선형\n",
    "    svr_lin = SVR(kernel= 'linear', C=1e3)\n",
    "    # 다항\n",
    "    svr_poly = SVR(kernel = 'poly', C=1e3, degree = 2)\n",
    "    # RBF\n",
    "    svr_rbf = SVR(kernel='rbf', C=1e3, gamma='auto')\n",
    "\n",
    "    # 데이터 훈련\n",
    "    svr_lin.fit(dates, prices)\n",
    "    svr_poly.fit(dates, prices)\n",
    "    svr_rbf.fit(dates, prices)\n",
    "\n",
    "    # 데이터 표현\n",
    "    plt.scatter(dates, prices, color='black', label='Data')\n",
    "    plt.plot(dates, svr_rbf.predict(dates), color='red', label='RBF model')\n",
    "    plt.plot(dates, svr_lin.predict(dates), color='green', label='Linear model')\n",
    "    plt.plot(dates, svr_poly.predict(dates), color='blue', label='Polynomial model')\n",
    "    # 그래프 레이블링\n",
    "    plt.xlabel('Date')\n",
    "    plt.ylabel('Price')\n",
    "    plt.title('Support Vector Regression')\n",
    "    plt.legend()\n",
    "    plt.show()\n",
    "\n",
    "    #훈련된 데이터 반환\n",
    "    return svr_rbf.predict(x)[0], svr_lin.predict(x)[0], svr_poly.predict(x)[0]\n",
    "\n",
    "# CSV 파일 지정\n",
    "get_data('snaps.csv')\n",
    "# 데이터 훈련\n",
    "predicted_price = predict_prices(dates, prices, 29)\n",
    "# 데이터 표시\n",
    "print(predicted_price)"
   ]
  },
  {
   "cell_type": "markdown",
   "metadata": {},
   "source": [
    "1-6. 개인 심화 실습 \n",
    "==\n",
    "더욱 변화 시켜 보세요.\n",
    "- 다른 SVR 모델, 다른 Scikit-learn 내의 모듈들, 다른 그래프 등등.\n",
    "  - SVC? Isotonic? Johnson-Lindenstrauss bound?\n",
    "- 어제 만든 트위터 단어 분석 서비스를 결합시킬 수 있을까요? "
   ]
  },
  {
   "cell_type": "code",
   "execution_count": 13,
   "metadata": {},
   "outputs": [
    {
     "name": "stdout",
     "output_type": "stream",
     "text": [
      "             High        Low       Open      Close    Volume  Adj Close\n",
      "Date                                                                   \n",
      "2010-06-29  25.00  17.540001  19.000000  23.889999  18766300  23.889999\n",
      "2010-06-30  30.42  23.299999  25.790001  23.830000  17187100  23.830000\n",
      "2010-07-01  25.92  20.270000  25.000000  21.959999   8218800  21.959999\n",
      "2010-07-02  23.10  18.709999  23.000000  19.200001   5139800  19.200001\n",
      "2010-07-06  20.00  15.830000  20.000000  16.110001   6866900  16.110001\n"
     ]
    }
   ],
   "source": [
    "import datetime as dt\n",
    "import matplotlib.pyplot as plt\n",
    "from matplotlib import style\n",
    "import pandas as pd\n",
    "# pandas_datareader 패키지의 DataReader라는 함수는 웹 상의 데이터를 DataFrame 객체로 만드는 기능을 제공합니다.\n",
    "import pandas_datareader.data as web\n",
    "\n",
    "style.use('ggplot')\n",
    "\n",
    "start = dt.datetime(2000,1,1)\n",
    "end = dt.datetime(2018,12,31)\n",
    "\n",
    "df = web.DataReader('TSLA', 'yahoo', start, end)\n",
    "print (df.head(5))"
   ]
  },
  {
   "cell_type": "code",
   "execution_count": 14,
   "metadata": {},
   "outputs": [
    {
     "name": "stdout",
     "output_type": "stream",
     "text": [
      "                  High         Low        Open       Close   Volume  \\\n",
      "Date                                                                  \n",
      "2018-12-24  314.500000  295.200012  313.500000  295.390015  5559900   \n",
      "2018-12-26  326.970001  294.089996  300.000000  326.089996  8163100   \n",
      "2018-12-27  322.170013  301.500000  319.839996  316.130005  8575100   \n",
      "2018-12-28  336.239990  318.410004  323.100006  333.869995  9939000   \n",
      "2018-12-31  339.209991  325.260010  337.790009  332.799988  6302300   \n",
      "\n",
      "             Adj Close  \n",
      "Date                    \n",
      "2018-12-24  295.390015  \n",
      "2018-12-26  326.089996  \n",
      "2018-12-27  316.130005  \n",
      "2018-12-28  333.869995  \n",
      "2018-12-31  332.799988  \n"
     ]
    }
   ],
   "source": [
    "print (df.tail(5))"
   ]
  },
  {
   "cell_type": "code",
   "execution_count": 9,
   "metadata": {},
   "outputs": [],
   "source": [
    "#df.to_csv('tsla.csv')"
   ]
  },
  {
   "cell_type": "code",
   "execution_count": 15,
   "metadata": {},
   "outputs": [
    {
     "name": "stdout",
     "output_type": "stream",
     "text": [
      "             High        Low       Open      Close    Volume  Adj Close\n",
      "Date                                                                   \n",
      "2010-06-29  25.00  17.540001  19.000000  23.889999  18766300  23.889999\n",
      "2010-06-30  30.42  23.299999  25.790001  23.830000  17187100  23.830000\n",
      "2010-07-01  25.92  20.270000  25.000000  21.959999   8218800  21.959999\n"
     ]
    }
   ],
   "source": [
    "df = pd.read_csv('tsla.csv', parse_dates=True, index_col=0)\n",
    "print(df.head(3))"
   ]
  },
  {
   "cell_type": "code",
   "execution_count": null,
   "metadata": {},
   "outputs": [],
   "source": []
  }
 ],
 "metadata": {
  "kernelspec": {
   "display_name": "TensorFlow-GPU",
   "language": "python",
   "name": "tf-gpu"
  },
  "language_info": {
   "codemirror_mode": {
    "name": "ipython",
    "version": 3
   },
   "file_extension": ".py",
   "mimetype": "text/x-python",
   "name": "python",
   "nbconvert_exporter": "python",
   "pygments_lexer": "ipython3",
   "version": "3.6.8"
  }
 },
 "nbformat": 4,
 "nbformat_minor": 2
}
