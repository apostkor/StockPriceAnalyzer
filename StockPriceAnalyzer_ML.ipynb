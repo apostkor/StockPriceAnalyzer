{
 "cells": [
  {
   "cell_type": "markdown",
   "metadata": {},
   "source": [
    "Stock Price Analyzer using ML and BigData (ML Focused)\n",
    "==\n",
    "by Sun-il Kim. *2019-01-11*\n",
    "\n",
    "\n",
    "**기본적인 빅데이터 머신러닝을 통한 주식 분석 예제입니다.**\n",
    "- 참고) https://www.youtube.com/watch?v=Z-5wNWgRJpk"
   ]
  },
  {
   "cell_type": "code",
   "execution_count": null,
   "metadata": {},
   "outputs": [],
   "source": []
  }
 ],
 "metadata": {
  "kernelspec": {
   "display_name": "TensorFlow-GPU",
   "language": "python",
   "name": "tf-gpu"
  },
  "language_info": {
   "codemirror_mode": {
    "name": "ipython",
    "version": 3
   },
   "file_extension": ".py",
   "mimetype": "text/x-python",
   "name": "python",
   "nbconvert_exporter": "python",
   "pygments_lexer": "ipython3",
   "version": "3.6.8"
  }
 },
 "nbformat": 4,
 "nbformat_minor": 2
}
